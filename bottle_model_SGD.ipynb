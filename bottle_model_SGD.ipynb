{
  "cells": [
    {
      "cell_type": "markdown",
      "metadata": {
        "id": "view-in-github",
        "colab_type": "text"
      },
      "source": [
        "<a href=\"https://colab.research.google.com/github/Avijit-D/hydration-essentials/blob/main/bottle_model_SGD.ipynb\" target=\"_parent\"><img src=\"https://colab.research.google.com/assets/colab-badge.svg\" alt=\"Open In Colab\"/></a>"
      ]
    },
    {
      "cell_type": "markdown",
      "metadata": {
        "id": "MISnVpbqNeO8"
      },
      "source": [
        "# Downloading and Unzipping Dataset"
      ]
    },
    {
      "cell_type": "code",
      "execution_count": 1,
      "metadata": {
        "colab": {
          "base_uri": "https://localhost:8080/"
        },
        "id": "Hbn_oAZ1DIbH",
        "outputId": "d2113eab-58c8-4bcc-e125-be9f92b5bda0"
      },
      "outputs": [
        {
          "output_type": "stream",
          "name": "stdout",
          "text": [
            "Dataset URL: https://www.kaggle.com/datasets/chethuhn/water-bottle-dataset\n",
            "License(s): CC0-1.0\n",
            "Downloading water-bottle-dataset.zip to /content\n",
            " 98% 63.0M/64.2M [00:04<00:00, 25.6MB/s]\n",
            "100% 64.2M/64.2M [00:04<00:00, 15.9MB/s]\n"
          ]
        }
      ],
      "source": [
        "!kaggle datasets download -d chethuhn/water-bottle-dataset\n"
      ]
    },
    {
      "cell_type": "code",
      "execution_count": 2,
      "metadata": {
        "id": "LAwAod1TNzaJ"
      },
      "outputs": [],
      "source": [
        "import zipfile\n",
        "zip_ref = zipfile.ZipFile('water-bottle-dataset.zip', 'r')\n",
        "zip_ref.extractall('/content')\n",
        "zip_ref.close()"
      ]
    },
    {
      "cell_type": "markdown",
      "metadata": {
        "id": "P89-SMzs_0O9"
      },
      "source": [
        "# Dataset Partition"
      ]
    },
    {
      "cell_type": "code",
      "execution_count": 3,
      "metadata": {
        "id": "mUrXTdkBK3Cr"
      },
      "outputs": [],
      "source": [
        "import tensorflow as tf\n",
        "from tensorflow import keras\n",
        "from keras.preprocessing.image import ImageDataGenerator\n",
        "import numpy as np"
      ]
    },
    {
      "cell_type": "code",
      "execution_count": 4,
      "metadata": {
        "colab": {
          "base_uri": "https://localhost:8080/"
        },
        "id": "joWSURL8lK1Y",
        "outputId": "bce3c59a-c9c7-43bd-f72b-72b0c6f3e9a8"
      },
      "outputs": [
        {
          "output_type": "stream",
          "name": "stdout",
          "text": [
            "Found 486 files belonging to 3 classes.\n",
            "Train dataset size: 12\n",
            "Validation dataset size: 2\n",
            "Test dataset size: 2\n"
          ]
        }
      ],
      "source": [
        "def get_dataset_partitions_tf(ds, train_split=0.75, val_split=0.125, test_split=0.125, shuffle=True, shuffle_size=10000):\n",
        "    assert (train_split + val_split + test_split) == 1, \"Splits must sum to 1\"\n",
        "\n",
        "    ds_size = len(ds)\n",
        "\n",
        "    if shuffle:\n",
        "        ds = ds.shuffle(shuffle_size, seed=12)\n",
        "\n",
        "    train_size = int(train_split * ds_size)\n",
        "    val_size = int(val_split * ds_size)\n",
        "\n",
        "    train_ds = ds.take(train_size)\n",
        "    val_ds = ds.skip(train_size).take(val_size)\n",
        "    test_ds = ds.skip(train_size).skip(val_size)\n",
        "\n",
        "    return train_ds, val_ds, test_ds\n",
        "\n",
        "def load_images_from_directory(directory, image_size=(256, 256), batch_size=32):\n",
        "    dataset = tf.keras.preprocessing.image_dataset_from_directory(\n",
        "        directory=directory,\n",
        "        labels='inferred',\n",
        "        shuffle=True,\n",
        "        image_size=image_size,\n",
        "        batch_size=batch_size\n",
        "    )\n",
        "    return dataset\n",
        "\n",
        "image_directory = '/content/archive'\n",
        "dataset = load_images_from_directory(image_directory)\n",
        "\n",
        "train_ds, val_ds, test_ds = get_dataset_partitions_tf(dataset)\n",
        "\n",
        "print(f\"Train dataset size: {len(train_ds)}\")\n",
        "print(f\"Validation dataset size: {len(val_ds)}\")\n",
        "print(f\"Test dataset size: {len(test_ds)}\")\n"
      ]
    },
    {
      "cell_type": "markdown",
      "metadata": {
        "id": "IC7vwylkExdc"
      },
      "source": [
        "# Image Preprocessing"
      ]
    },
    {
      "cell_type": "code",
      "execution_count": null,
      "metadata": {
        "id": "MKUugWXxFScD"
      },
      "outputs": [],
      "source": [
        "train_ds = train_ds.cache().shuffle(1000).prefetch(buffer_size=tf.data.AUTOTUNE)\n",
        "val_ds = val_ds.cache().shuffle(1000).prefetch(buffer_size=tf.data.AUTOTUNE)\n",
        "test_ds = test_ds.cache().shuffle(1000).prefetch(buffer_size=tf.data.AUTOTUNE)"
      ]
    },
    {
      "cell_type": "code",
      "execution_count": 5,
      "metadata": {
        "id": "-Ol0EcRvFxwC"
      },
      "outputs": [],
      "source": [
        "# Resizing and Rescaling\n",
        "resize_and_rescale = keras.Sequential([\n",
        "    keras.layers.experimental.preprocessing.Resizing(256, 256),\n",
        "    keras.layers.experimental.preprocessing.Rescaling(1.0/255)\n",
        "])"
      ]
    },
    {
      "cell_type": "code",
      "execution_count": null,
      "metadata": {
        "id": "9sHS4q40GO14"
      },
      "outputs": [],
      "source": [
        "# Data Augmentation\n",
        "data_augmentation = keras.Sequential([\n",
        "    keras.layers.experimental.preprocessing.RandomFlip(\"horizontal_and_vertical\"),\n",
        "    keras.layers.experimental.preprocessing.RandomRotation(0.2)\n",
        "])"
      ]
    },
    {
      "cell_type": "code",
      "execution_count": null,
      "metadata": {
        "id": "VhXZ72qpGVdh"
      },
      "outputs": [],
      "source": [
        "train_ds = train_ds.map(\n",
        "    lambda x, y: (resize_and_rescale(x), y)\n",
        ").prefetch(buffer_size=tf.data.AUTOTUNE)\n",
        "\n",
        "val_ds = val_ds.map(\n",
        "    lambda x, y: (resize_and_rescale(x), y)\n",
        ").prefetch(buffer_size=tf.data.AUTOTUNE)\n",
        "\n",
        "test_ds = test_ds.map(\n",
        "    lambda x, y: (resize_and_rescale(x), y)\n",
        ").prefetch(buffer_size=tf.data.AUTOTUNE)"
      ]
    },
    {
      "cell_type": "code",
      "execution_count": 6,
      "metadata": {
        "colab": {
          "base_uri": "https://localhost:8080/"
        },
        "id": "znBRQBPYDzTK",
        "outputId": "65f40a65-8cdc-4afd-fa4b-ca480739b066"
      },
      "outputs": [
        {
          "output_type": "stream",
          "name": "stdout",
          "text": [
            "Train dataset size: 12\n",
            "Validation dataset size: 2\n",
            "Test dataset size: 2\n"
          ]
        }
      ],
      "source": [
        "print(f\"Train dataset size: {len(train_ds)}\")\n",
        "print(f\"Validation dataset size: {len(val_ds)}\")\n",
        "print(f\"Test dataset size: {len(test_ds)}\")"
      ]
    },
    {
      "cell_type": "markdown",
      "metadata": {
        "id": "RaskT6ZpG0g9"
      },
      "source": [
        "# Model Building"
      ]
    },
    {
      "cell_type": "code",
      "execution_count": 7,
      "metadata": {
        "id": "ow6ByqvAKb4A"
      },
      "outputs": [],
      "source": [
        "# Importing libraries\n",
        "import tensorflow as tf\n",
        "from tensorflow import keras\n",
        "import logging\n",
        "logging.basicConfig(level=logging.ERROR, filename= \"tensorflow.log\", filemode=\"w\")\n",
        "\n",
        "from keras import models,layers\n",
        "import matplotlib.pyplot as plt\n",
        "from IPython.display import HTML"
      ]
    },
    {
      "cell_type": "code",
      "execution_count": 8,
      "metadata": {
        "id": "K_JZN8JyKsgB"
      },
      "outputs": [],
      "source": [
        "# Importing Keras models and layers\n",
        "from keras.models import Sequential\n",
        "from keras.layers import Conv2D, MaxPooling2D, Dense, Flatten, BatchNormalization, Activation"
      ]
    },
    {
      "cell_type": "code",
      "execution_count": 9,
      "metadata": {
        "id": "oY7yydBhMlmP"
      },
      "outputs": [],
      "source": [
        "input_shape = (32, 256, 256, 3)\n",
        "num_classes = 3\n",
        "\n",
        "model = Sequential([\n",
        "    resize_and_rescale,\n",
        "    Conv2D(32, kernel_size=(3, 3), activation='relu', input_shape=input_shape),\n",
        "    MaxPooling2D(pool_size=(2, 2)),\n",
        "    Conv2D(64, kernel_size=(3, 3), activation='relu'),\n",
        "    MaxPooling2D(pool_size=(2, 2)),\n",
        "    Conv2D(64, kernel_size=(3, 3), activation='relu'),\n",
        "    MaxPooling2D(pool_size=(2, 2)),\n",
        "    Conv2D(64, kernel_size=(3, 3), activation='relu'),\n",
        "    MaxPooling2D(pool_size=(2, 2)),\n",
        "    Flatten(),\n",
        "    Dense(128, activation=None),\n",
        "    BatchNormalization(),\n",
        "    Activation('relu'),\n",
        "\n",
        "    Dense(64, activation=None),\n",
        "    BatchNormalization(),\n",
        "    Activation('relu'),\n",
        "\n",
        "    Dense(num_classes, activation='softmax'),\n",
        "])\n",
        "\n",
        "model.build(input_shape=input_shape)\n"
      ]
    },
    {
      "cell_type": "code",
      "execution_count": null,
      "metadata": {
        "colab": {
          "base_uri": "https://localhost:8080/"
        },
        "collapsed": true,
        "id": "HWIvjuP0Mtc1",
        "outputId": "1f36e2eb-fcb6-4a2e-d173-a7020a29cd41"
      },
      "outputs": [
        {
          "name": "stdout",
          "output_type": "stream",
          "text": [
            "Model: \"sequential_3\"\n",
            "_________________________________________________________________\n",
            " Layer (type)                Output Shape              Param #   \n",
            "=================================================================\n",
            " sequential (Sequential)     (None, 256, 256, 3)       0         \n",
            "                                                                 \n",
            " conv2d_6 (Conv2D)           (32, 254, 254, 32)        896       \n",
            "                                                                 \n",
            " max_pooling2d_6 (MaxPoolin  (32, 127, 127, 32)        0         \n",
            " g2D)                                                            \n",
            "                                                                 \n",
            " conv2d_7 (Conv2D)           (32, 125, 125, 64)        18496     \n",
            "                                                                 \n",
            " max_pooling2d_7 (MaxPoolin  (32, 62, 62, 64)          0         \n",
            " g2D)                                                            \n",
            "                                                                 \n",
            " conv2d_8 (Conv2D)           (32, 60, 60, 64)          36928     \n",
            "                                                                 \n",
            " max_pooling2d_8 (MaxPoolin  (32, 30, 30, 64)          0         \n",
            " g2D)                                                            \n",
            "                                                                 \n",
            " conv2d_9 (Conv2D)           (32, 28, 28, 64)          36928     \n",
            "                                                                 \n",
            " max_pooling2d_9 (MaxPoolin  (32, 14, 14, 64)          0         \n",
            " g2D)                                                            \n",
            "                                                                 \n",
            " conv2d_10 (Conv2D)          (32, 12, 12, 64)          36928     \n",
            "                                                                 \n",
            " max_pooling2d_10 (MaxPooli  (32, 6, 6, 64)            0         \n",
            " ng2D)                                                           \n",
            "                                                                 \n",
            " conv2d_11 (Conv2D)          (32, 4, 4, 64)            36928     \n",
            "                                                                 \n",
            " max_pooling2d_11 (MaxPooli  (32, 2, 2, 64)            0         \n",
            " ng2D)                                                           \n",
            "                                                                 \n",
            " flatten_1 (Flatten)         (32, 256)                 0         \n",
            "                                                                 \n",
            " dense_3 (Dense)             (32, 128)                 32896     \n",
            "                                                                 \n",
            " batch_normalization_2 (Bat  (32, 128)                 512       \n",
            " chNormalization)                                                \n",
            "                                                                 \n",
            " activation_2 (Activation)   (32, 128)                 0         \n",
            "                                                                 \n",
            " dense_4 (Dense)             (32, 64)                  8256      \n",
            "                                                                 \n",
            " batch_normalization_3 (Bat  (32, 64)                  256       \n",
            " chNormalization)                                                \n",
            "                                                                 \n",
            " activation_3 (Activation)   (32, 64)                  0         \n",
            "                                                                 \n",
            " dense_5 (Dense)             (32, 3)                   195       \n",
            "                                                                 \n",
            "=================================================================\n",
            "Total params: 209219 (817.26 KB)\n",
            "Trainable params: 208835 (815.76 KB)\n",
            "Non-trainable params: 384 (1.50 KB)\n",
            "_________________________________________________________________\n"
          ]
        }
      ],
      "source": [
        "model.summary()"
      ]
    },
    {
      "cell_type": "markdown",
      "metadata": {
        "id": "TcjQCn2uOmU9"
      },
      "source": [
        "# Model Training"
      ]
    },
    {
      "cell_type": "code",
      "execution_count": 10,
      "metadata": {
        "id": "ipLpcJ0mQThy"
      },
      "outputs": [],
      "source": [
        "model.compile(optimizer='SGD',loss='sparse_categorical_crossentropy',metrics=['accuracy'])"
      ]
    },
    {
      "cell_type": "code",
      "execution_count": 11,
      "metadata": {
        "colab": {
          "base_uri": "https://localhost:8080/"
        },
        "id": "nMTnvNbuECIC",
        "outputId": "ebf80e26-995b-46af-984f-36a739ac730d"
      },
      "outputs": [
        {
          "output_type": "stream",
          "name": "stdout",
          "text": [
            "Epoch 1/75\n",
            "12/12 [==============================] - 56s 4s/step - loss: 0.9289 - accuracy: 0.5866 - val_loss: 0.9941 - val_accuracy: 0.6094\n",
            "Epoch 2/75\n",
            "12/12 [==============================] - 53s 4s/step - loss: 0.6754 - accuracy: 0.7151 - val_loss: 0.8896 - val_accuracy: 0.7031\n",
            "Epoch 3/75\n",
            "12/12 [==============================] - 52s 4s/step - loss: 0.6126 - accuracy: 0.7542 - val_loss: 0.9081 - val_accuracy: 0.6250\n",
            "Epoch 4/75\n",
            "12/12 [==============================] - 52s 4s/step - loss: 0.5209 - accuracy: 0.7905 - val_loss: 0.9017 - val_accuracy: 0.5781\n",
            "Epoch 5/75\n",
            "12/12 [==============================] - 65s 5s/step - loss: 0.5197 - accuracy: 0.8156 - val_loss: 0.8909 - val_accuracy: 0.6579\n",
            "Epoch 6/75\n",
            "12/12 [==============================] - 52s 4s/step - loss: 0.5746 - accuracy: 0.7682 - val_loss: 0.9422 - val_accuracy: 0.5781\n",
            "Epoch 7/75\n",
            "12/12 [==============================] - 55s 4s/step - loss: 0.4760 - accuracy: 0.8359 - val_loss: 0.8388 - val_accuracy: 0.5938\n",
            "Epoch 8/75\n",
            "12/12 [==============================] - 54s 4s/step - loss: 0.4946 - accuracy: 0.8045 - val_loss: 0.8811 - val_accuracy: 0.5469\n",
            "Epoch 9/75\n",
            "12/12 [==============================] - 50s 4s/step - loss: 0.4108 - accuracy: 0.8603 - val_loss: 1.0110 - val_accuracy: 0.3684\n",
            "Epoch 10/75\n",
            "12/12 [==============================] - 52s 4s/step - loss: 0.4107 - accuracy: 0.8547 - val_loss: 0.8489 - val_accuracy: 0.5938\n",
            "Epoch 11/75\n",
            "12/12 [==============================] - 52s 4s/step - loss: 0.3361 - accuracy: 0.8911 - val_loss: 0.7888 - val_accuracy: 0.6406\n",
            "Epoch 12/75\n",
            "12/12 [==============================] - 52s 4s/step - loss: 0.3727 - accuracy: 0.8771 - val_loss: 0.7903 - val_accuracy: 0.6579\n",
            "Epoch 13/75\n",
            "12/12 [==============================] - 52s 4s/step - loss: 0.3576 - accuracy: 0.8743 - val_loss: 0.7927 - val_accuracy: 0.5938\n",
            "Epoch 14/75\n",
            "12/12 [==============================] - 50s 4s/step - loss: 0.2976 - accuracy: 0.9078 - val_loss: 0.6203 - val_accuracy: 0.8158\n",
            "Epoch 15/75\n",
            "12/12 [==============================] - 51s 4s/step - loss: 0.3005 - accuracy: 0.8966 - val_loss: 0.7664 - val_accuracy: 0.6053\n",
            "Epoch 16/75\n",
            "12/12 [==============================] - 59s 5s/step - loss: 0.2505 - accuracy: 0.9134 - val_loss: 0.7406 - val_accuracy: 0.6842\n",
            "Epoch 17/75\n",
            "12/12 [==============================] - 52s 4s/step - loss: 0.2224 - accuracy: 0.9385 - val_loss: 0.7052 - val_accuracy: 0.7500\n",
            "Epoch 18/75\n",
            "12/12 [==============================] - 62s 5s/step - loss: 0.2217 - accuracy: 0.9385 - val_loss: 0.6395 - val_accuracy: 0.7188\n",
            "Epoch 19/75\n",
            "12/12 [==============================] - 53s 4s/step - loss: 0.2084 - accuracy: 0.9358 - val_loss: 0.6776 - val_accuracy: 0.7031\n",
            "Epoch 20/75\n",
            "12/12 [==============================] - 55s 4s/step - loss: 0.1886 - accuracy: 0.9479 - val_loss: 0.6401 - val_accuracy: 0.8594\n",
            "Epoch 21/75\n",
            "12/12 [==============================] - 53s 4s/step - loss: 0.1512 - accuracy: 0.9581 - val_loss: 0.5964 - val_accuracy: 0.8125\n",
            "Epoch 22/75\n",
            "12/12 [==============================] - 50s 4s/step - loss: 0.1959 - accuracy: 0.9469 - val_loss: 0.6268 - val_accuracy: 0.8158\n",
            "Epoch 23/75\n",
            "12/12 [==============================] - 53s 4s/step - loss: 0.1625 - accuracy: 0.9721 - val_loss: 0.6111 - val_accuracy: 0.7188\n",
            "Epoch 24/75\n",
            "12/12 [==============================] - 58s 4s/step - loss: 0.1428 - accuracy: 0.9714 - val_loss: 0.7136 - val_accuracy: 0.7500\n",
            "Epoch 25/75\n",
            "12/12 [==============================] - 51s 4s/step - loss: 0.1100 - accuracy: 0.9888 - val_loss: 0.5241 - val_accuracy: 0.8158\n",
            "Epoch 26/75\n",
            "12/12 [==============================] - 55s 4s/step - loss: 0.0929 - accuracy: 0.9844 - val_loss: 0.6534 - val_accuracy: 0.7500\n",
            "Epoch 27/75\n",
            "12/12 [==============================] - 52s 4s/step - loss: 0.0893 - accuracy: 0.9832 - val_loss: 0.5598 - val_accuracy: 0.9219\n",
            "Epoch 28/75\n",
            "12/12 [==============================] - 51s 4s/step - loss: 0.0766 - accuracy: 0.9888 - val_loss: 0.7339 - val_accuracy: 0.5938\n",
            "Epoch 29/75\n",
            "12/12 [==============================] - 55s 4s/step - loss: 0.1051 - accuracy: 0.9766 - val_loss: 0.6520 - val_accuracy: 0.6406\n",
            "Epoch 30/75\n",
            "12/12 [==============================] - 52s 4s/step - loss: 0.0906 - accuracy: 0.9860 - val_loss: 0.4967 - val_accuracy: 0.9531\n",
            "Epoch 31/75\n",
            "12/12 [==============================] - 52s 4s/step - loss: 0.0807 - accuracy: 0.9888 - val_loss: 0.5199 - val_accuracy: 0.8125\n",
            "Epoch 32/75\n",
            "12/12 [==============================] - 51s 4s/step - loss: 0.0459 - accuracy: 0.9972 - val_loss: 0.4060 - val_accuracy: 0.9375\n",
            "Epoch 33/75\n",
            "12/12 [==============================] - 57s 4s/step - loss: 0.0533 - accuracy: 0.9972 - val_loss: 0.3481 - val_accuracy: 0.9531\n",
            "Epoch 34/75\n",
            "12/12 [==============================] - 55s 4s/step - loss: 0.0509 - accuracy: 0.9948 - val_loss: 0.4372 - val_accuracy: 0.9062\n",
            "Epoch 35/75\n",
            "12/12 [==============================] - 52s 4s/step - loss: 0.0489 - accuracy: 0.9944 - val_loss: 0.4277 - val_accuracy: 0.8438\n",
            "Epoch 36/75\n",
            "12/12 [==============================] - 55s 4s/step - loss: 0.0417 - accuracy: 1.0000 - val_loss: 0.3349 - val_accuracy: 0.9531\n",
            "Epoch 37/75\n",
            "12/12 [==============================] - 51s 4s/step - loss: 0.0400 - accuracy: 1.0000 - val_loss: 0.2930 - val_accuracy: 0.9844\n",
            "Epoch 38/75\n",
            "12/12 [==============================] - 50s 4s/step - loss: 0.0344 - accuracy: 1.0000 - val_loss: 0.2608 - val_accuracy: 0.9737\n",
            "Epoch 39/75\n",
            "12/12 [==============================] - 51s 4s/step - loss: 0.0456 - accuracy: 1.0000 - val_loss: 0.3986 - val_accuracy: 0.8947\n",
            "Epoch 40/75\n",
            "12/12 [==============================] - 52s 4s/step - loss: 0.0347 - accuracy: 1.0000 - val_loss: 0.2305 - val_accuracy: 0.9688\n",
            "Epoch 41/75\n",
            "12/12 [==============================] - 51s 4s/step - loss: 0.0347 - accuracy: 1.0000 - val_loss: 0.2557 - val_accuracy: 0.9688\n",
            "Epoch 42/75\n",
            "12/12 [==============================] - 52s 4s/step - loss: 0.0336 - accuracy: 1.0000 - val_loss: 0.6729 - val_accuracy: 0.6406\n",
            "Epoch 43/75\n",
            "12/12 [==============================] - 52s 4s/step - loss: 0.0568 - accuracy: 0.9944 - val_loss: 0.2336 - val_accuracy: 0.9375\n",
            "Epoch 44/75\n",
            "12/12 [==============================] - 51s 4s/step - loss: 0.0471 - accuracy: 1.0000 - val_loss: 0.1901 - val_accuracy: 1.0000\n",
            "Epoch 45/75\n",
            "12/12 [==============================] - 52s 4s/step - loss: 0.0469 - accuracy: 0.9972 - val_loss: 0.1630 - val_accuracy: 0.9531\n",
            "Epoch 46/75\n",
            "12/12 [==============================] - 55s 4s/step - loss: 0.0390 - accuracy: 0.9974 - val_loss: 0.1329 - val_accuracy: 0.9737\n",
            "Epoch 47/75\n",
            "12/12 [==============================] - 55s 4s/step - loss: 0.0342 - accuracy: 1.0000 - val_loss: 0.2916 - val_accuracy: 0.8906\n",
            "Epoch 48/75\n",
            "12/12 [==============================] - 52s 4s/step - loss: 0.0711 - accuracy: 0.9916 - val_loss: 0.4238 - val_accuracy: 0.8594\n",
            "Epoch 49/75\n",
            "12/12 [==============================] - 49s 4s/step - loss: 0.0547 - accuracy: 0.9860 - val_loss: 0.1310 - val_accuracy: 0.9737\n",
            "Epoch 50/75\n",
            "12/12 [==============================] - 55s 4s/step - loss: 0.0345 - accuracy: 1.0000 - val_loss: 0.1044 - val_accuracy: 0.9688\n",
            "Epoch 51/75\n",
            "12/12 [==============================] - 52s 4s/step - loss: 0.0554 - accuracy: 0.9944 - val_loss: 0.1575 - val_accuracy: 0.9375\n",
            "Epoch 52/75\n",
            "12/12 [==============================] - 50s 4s/step - loss: 0.0351 - accuracy: 1.0000 - val_loss: 0.0869 - val_accuracy: 0.9844\n",
            "Epoch 53/75\n",
            "12/12 [==============================] - 54s 4s/step - loss: 0.0278 - accuracy: 1.0000 - val_loss: 0.0590 - val_accuracy: 1.0000\n",
            "Epoch 54/75\n",
            "12/12 [==============================] - 64s 5s/step - loss: 0.0283 - accuracy: 1.0000 - val_loss: 0.0897 - val_accuracy: 0.9844\n",
            "Epoch 55/75\n",
            "12/12 [==============================] - 51s 4s/step - loss: 0.0235 - accuracy: 1.0000 - val_loss: 0.1243 - val_accuracy: 1.0000\n",
            "Epoch 56/75\n",
            "12/12 [==============================] - 54s 4s/step - loss: 0.0184 - accuracy: 1.0000 - val_loss: 0.1221 - val_accuracy: 0.9844\n",
            "Epoch 57/75\n",
            "12/12 [==============================] - 55s 4s/step - loss: 0.0329 - accuracy: 0.9948 - val_loss: 0.3201 - val_accuracy: 0.8281\n",
            "Epoch 58/75\n",
            "12/12 [==============================] - 52s 4s/step - loss: 0.0284 - accuracy: 1.0000 - val_loss: 0.0839 - val_accuracy: 1.0000\n",
            "Epoch 59/75\n",
            "12/12 [==============================] - 56s 5s/step - loss: 0.0372 - accuracy: 0.9972 - val_loss: 0.1791 - val_accuracy: 0.9688\n",
            "Epoch 60/75\n",
            "12/12 [==============================] - 55s 4s/step - loss: 0.0207 - accuracy: 1.0000 - val_loss: 0.1097 - val_accuracy: 0.9688\n",
            "Epoch 61/75\n",
            "12/12 [==============================] - 52s 4s/step - loss: 0.0217 - accuracy: 1.0000 - val_loss: 0.1384 - val_accuracy: 0.9844\n",
            "Epoch 62/75\n",
            "12/12 [==============================] - 54s 4s/step - loss: 0.0229 - accuracy: 1.0000 - val_loss: 0.0498 - val_accuracy: 1.0000\n",
            "Epoch 63/75\n",
            "12/12 [==============================] - 64s 5s/step - loss: 0.0252 - accuracy: 0.9974 - val_loss: 0.0667 - val_accuracy: 1.0000\n",
            "Epoch 64/75\n",
            "12/12 [==============================] - 52s 4s/step - loss: 0.0149 - accuracy: 1.0000 - val_loss: 0.0462 - val_accuracy: 1.0000\n",
            "Epoch 65/75\n",
            "12/12 [==============================] - 51s 4s/step - loss: 0.0117 - accuracy: 1.0000 - val_loss: 0.0304 - val_accuracy: 1.0000\n",
            "Epoch 66/75\n",
            "12/12 [==============================] - 51s 4s/step - loss: 0.0899 - accuracy: 0.9832 - val_loss: 0.6455 - val_accuracy: 0.8158\n",
            "Epoch 67/75\n",
            "12/12 [==============================] - 52s 4s/step - loss: 0.0673 - accuracy: 0.9777 - val_loss: 0.7606 - val_accuracy: 0.7969\n",
            "Epoch 68/75\n",
            "12/12 [==============================] - 54s 4s/step - loss: 0.0370 - accuracy: 0.9948 - val_loss: 0.3439 - val_accuracy: 0.8906\n",
            "Epoch 69/75\n",
            "12/12 [==============================] - 55s 4s/step - loss: 0.0283 - accuracy: 1.0000 - val_loss: 0.0848 - val_accuracy: 0.9688\n",
            "Epoch 70/75\n",
            "12/12 [==============================] - 56s 4s/step - loss: 0.0250 - accuracy: 1.0000 - val_loss: 0.1018 - val_accuracy: 0.9737\n",
            "Epoch 71/75\n",
            "12/12 [==============================] - 53s 4s/step - loss: 0.0239 - accuracy: 0.9972 - val_loss: 0.0458 - val_accuracy: 1.0000\n",
            "Epoch 72/75\n",
            "12/12 [==============================] - 56s 4s/step - loss: 0.0179 - accuracy: 1.0000 - val_loss: 0.0374 - val_accuracy: 1.0000\n",
            "Epoch 73/75\n",
            "12/12 [==============================] - 55s 4s/step - loss: 0.0211 - accuracy: 1.0000 - val_loss: 0.0546 - val_accuracy: 0.9844\n",
            "Epoch 74/75\n",
            "12/12 [==============================] - 62s 5s/step - loss: 0.0193 - accuracy: 0.9972 - val_loss: 0.8371 - val_accuracy: 0.7344\n",
            "Epoch 75/75\n",
            "12/12 [==============================] - 55s 4s/step - loss: 0.0273 - accuracy: 0.9974 - val_loss: 0.0823 - val_accuracy: 0.9844\n"
          ]
        }
      ],
      "source": [
        "history = model.fit(train_ds,epochs=75,validation_data=val_ds)"
      ]
    },
    {
      "cell_type": "code",
      "execution_count": 13,
      "metadata": {
        "colab": {
          "base_uri": "https://localhost:8080/"
        },
        "id": "v6Z2XSHR2e6O",
        "outputId": "b1d46c42-c8b4-4411-ccdf-f8c77ea65109"
      },
      "outputs": [
        {
          "output_type": "stream",
          "name": "stdout",
          "text": [
            "2/2 [==============================] - 5s 1s/step - loss: 0.0427 - accuracy: 1.0000\n",
            "Test loss: 0.0427468940615654\n",
            "Test accuracy: 1.0\n"
          ]
        }
      ],
      "source": [
        "scores = model.evaluate(test_ds)\n",
        "print('Test loss:', scores[0])\n",
        "print('Test accuracy:', scores[1])"
      ]
    },
    {
      "cell_type": "code",
      "execution_count": 14,
      "metadata": {
        "colab": {
          "base_uri": "https://localhost:8080/",
          "height": 452
        },
        "id": "7KvclgW61VCr",
        "outputId": "3ec89ba8-3d01-4116-ff2d-1826011a10ae"
      },
      "outputs": [
        {
          "output_type": "display_data",
          "data": {
            "text/plain": [
              "<Figure size 640x480 with 1 Axes>"
            ],
            "image/png": "[encoded data removed]"
          },
          "metadata": {}
        }
      ],
      "source": [
        "import matplotlib.pyplot as plt\n",
        "plt.title('75 epochs with sgd')\n",
        "plt.plot(history. history['accuracy'], color='red' , label= 'train' )\n",
        "plt.plot(history. history['val_accuracy'], color='blue' , label= 'validation')\n",
        "plt.legend()\n",
        "plt.show()"
      ]
    },
    {
      "cell_type": "code",
      "execution_count": null,
      "metadata": {
        "colab": {
          "base_uri": "https://localhost:8080/"
        },
        "id": "NA_v-Zy31dQ3",
        "outputId": "8a20f4a2-9fd3-400c-aaff-8a761dcc2a7b"
      },
      "outputs": [
        {
          "name": "stderr",
          "output_type": "stream",
          "text": [
            "/usr/local/lib/python3.10/dist-packages/keras/src/engine/training.py:3103: UserWarning: You are saving your model as an HDF5 file via `model.save()`. This file format is considered legacy. We recommend using instead the native Keras format, e.g. `model.save('my_model.keras')`.\n",
            "  saving_api.save_model(\n"
          ]
        }
      ],
      "source": [
        "model.save('modelSGD.h5')\n",
        "model.save('modelSGD.keras')"
      ]
    },
    {
      "cell_type": "code",
      "execution_count": null,
      "metadata": {
        "colab": {
          "base_uri": "https://localhost:8080/"
        },
        "id": "QTZwp7dZdNy_",
        "outputId": "3f6f439b-f7f8-4487-acf6-642a98625278"
      },
      "outputs": [
        {
          "name": "stdout",
          "output_type": "stream",
          "text": [
            "2/2 [==============================] - 6s 981ms/step - loss: 4.8766e-04 - accuracy: 1.0000\n",
            "Test loss: 0.00048766311374492943\n",
            "Test accuracy: 1.0\n"
          ]
        }
      ],
      "source": [
        "score = model.evaluate(test_ds)\n",
        "print('Test loss:', score[0])\n",
        "print('Test accuracy:', score[1])"
      ]
    }
  ],
  "metadata": {
    "colab": {
      "provenance": [],
      "include_colab_link": true
    },
    "kernelspec": {
      "display_name": "Python 3",
      "name": "python3"
    },
    "language_info": {
      "name": "python"
    }
  },
  "nbformat": 4,
  "nbformat_minor": 0
}